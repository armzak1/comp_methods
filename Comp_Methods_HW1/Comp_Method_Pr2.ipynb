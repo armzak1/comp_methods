{
 "cells": [
  {
   "cell_type": "markdown",
   "metadata": {
    "collapsed": true
   },
   "source": [
    "#  Problem 2: Solution of Ax=b with Crout's LU Decomposition"
   ]
  },
  {
   "cell_type": "code",
   "execution_count": 1,
   "metadata": {
    "collapsed": true
   },
   "outputs": [],
   "source": [
    "import numpy as np"
   ]
  },
  {
   "cell_type": "markdown",
   "metadata": {},
   "source": [
    "## Inputs"
   ]
  },
  {
   "cell_type": "code",
   "execution_count": 2,
   "metadata": {
    "collapsed": false
   },
   "outputs": [],
   "source": [
    "A = np.array([[17, 1, -1, 2, -2, 3, -3, 4],\n",
    "[2, -16, -1, 3, -2, 1, 1, -4],\n",
    "[-1, 1, 15, 2, -1, 2, -1, 1],\n",
    "[2, 4, 1, -14, 1, 3, 4, -1],\n",
    "[1, 3, 1, -1, 13, 1, -2, 3],\n",
    "[-2, 1, 2, -1, 2, -12, -1, 1],\n",
    "[3, 4, -1, 1, 2, -2, 11, -3],\n",
    "[2, 1, 1, 1, -1, 1, -2, -10]]).astype('float32')\n",
    "\n",
    "b = np.array([33, 30, -24, -30, 25, 22, -27, 18])"
   ]
  },
  {
   "cell_type": "markdown",
   "metadata": {},
   "source": [
    "### A function that calculates Crout's LU Decomposition of A"
   ]
  },
  {
   "cell_type": "code",
   "execution_count": 3,
   "metadata": {
    "collapsed": true
   },
   "outputs": [],
   "source": [
    "def LUFactCrout(A):\n",
    "    n = len(A)\n",
    "    perm = np.arange(len(A))\n",
    "    L = np.zeros((n, n))\n",
    "    U = np.eye(n)\n",
    "    \n",
    "    S = np.max(np.abs(A), axis=1)\n",
    "    \n",
    "    for j in range(n):\n",
    "        for i in range(j, n):\n",
    "            sum1 = 0\n",
    "            for p in range(j):\n",
    "                sum1 += L[i][p] * U[p][j]\n",
    "            L[i][j] = A[i][j] - sum1\n",
    "        \n",
    "        mmax = -1\n",
    "        mmaxind = -1\n",
    "        \n",
    "        for i in range(j, n):\n",
    "            if abs(L[i][j] / S[i]) > mmax:\n",
    "                mmax = abs(L[i][j] / S[i])\n",
    "                mmaxind = i\n",
    "                \n",
    "        \n",
    "        if mmaxind != j:\n",
    "            for i in range(j + 1, n):\n",
    "                A[j][i], A[mmaxind][i] = A[mmaxind][i], A[j][i]\n",
    "\n",
    "            for i in range(j + 1):\n",
    "                L[j][i], L[mmaxind][i] = L[mmaxind][i], L[j][i]\n",
    "\n",
    "            S[mmaxind], S[j] = S[j], S[mmaxind]\n",
    "    \n",
    "            perm[mmaxind], perm[i] = perm[i], perm[mmaxind]    \n",
    "\n",
    "        for i in range(j + 1, n):\n",
    "            sum2 = 0\n",
    "            for p in range(j):\n",
    "                sum2 += L[j][p] * U[p][i]\n",
    "            U[j][i] = (A[j][i] - sum2) / (L[j][j])\n",
    "            \n",
    "    return L, U, perm"
   ]
  },
  {
   "cell_type": "code",
   "execution_count": 4,
   "metadata": {
    "collapsed": false,
    "scrolled": true
   },
   "outputs": [],
   "source": [
    "L, U, perm = LUFactCrout(A)"
   ]
  },
  {
   "cell_type": "markdown",
   "metadata": {},
   "source": [
    "### A function that solves Ax=b, given L, U, b and the permutation vector"
   ]
  },
  {
   "cell_type": "code",
   "execution_count": 5,
   "metadata": {
    "collapsed": true
   },
   "outputs": [],
   "source": [
    "def LUSolve(L, U, perm, b):\n",
    "    \n",
    "    tmp = np.zeros(b.shape)\n",
    "    for i in range(len(b)):\n",
    "        tmp[i] = b[perm[i]]\n",
    "    b = tmp.copy()\n",
    "    \n",
    "    n = len(b)\n",
    "    y = np.zeros(n)\n",
    "\n",
    "    for i in range(n):\n",
    "        sum1 = 0\n",
    "        for j in range(i):\n",
    "            sum1 += L[i][j]*y[j]\n",
    "            \n",
    "        y[i] = (b[i] - sum1) / L[i][i]\n",
    "        \n",
    "    x = np.zeros(n)\n",
    "    for i in range(n - 1, -1, -1):\n",
    "        sum2 = 0\n",
    "        for j in range(i + 1, n):\n",
    "            sum2 += U[i][j] * x[j]\n",
    "        \n",
    "        x[i] = y[i] - sum2\n",
    "        \n",
    "    return x"
   ]
  },
  {
   "cell_type": "code",
   "execution_count": 6,
   "metadata": {
    "collapsed": false
   },
   "outputs": [],
   "source": [
    "x = LUSolve(L, U, perm, b)"
   ]
  },
  {
   "cell_type": "markdown",
   "metadata": {},
   "source": [
    "## Result"
   ]
  },
  {
   "cell_type": "code",
   "execution_count": 7,
   "metadata": {
    "collapsed": false
   },
   "outputs": [
    {
     "name": "stdout",
     "output_type": "stream",
     "text": [
      "[ 2.16012024 -1.72301852 -1.17225228  0.63388653  2.17523393 -2.02119989\n",
      " -3.69211779 -1.2753342 ]\n"
     ]
    }
   ],
   "source": [
    "print(x)"
   ]
  },
  {
   "cell_type": "markdown",
   "metadata": {},
   "source": [
    "### The condition number for the given input"
   ]
  },
  {
   "cell_type": "code",
   "execution_count": 8,
   "metadata": {
    "collapsed": false
   },
   "outputs": [
    {
     "name": "stdout",
     "output_type": "stream",
     "text": [
      "3.31409683154e-08\n"
     ]
    }
   ],
   "source": [
    "det=1\n",
    "for i in range(len(A)):\n",
    "    det*=L[i][i]\n",
    "L2Norm = np.sqrt(np.sum(A*A))\n",
    "\n",
    "cond_num = L2Norm/det\n",
    "print(cond_num)\n",
    "\n"
   ]
  }
 ],
 "metadata": {
  "kernelspec": {
   "display_name": "Python 3",
   "language": "python",
   "name": "python3"
  },
  "language_info": {
   "codemirror_mode": {
    "name": "ipython",
    "version": 3
   },
   "file_extension": ".py",
   "mimetype": "text/x-python",
   "name": "python",
   "nbconvert_exporter": "python",
   "pygments_lexer": "ipython3",
   "version": "3.6.0"
  }
 },
 "nbformat": 4,
 "nbformat_minor": 2
}
