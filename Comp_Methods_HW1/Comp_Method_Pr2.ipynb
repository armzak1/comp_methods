{
 "cells": [
  {
   "cell_type": "code",
   "execution_count": 2,
   "metadata": {
    "collapsed": true
   },
   "outputs": [],
   "source": [
    "import numpy as np"
   ]
  },
  {
   "cell_type": "code",
   "execution_count": 6,
   "metadata": {
    "collapsed": false
   },
   "outputs": [
    {
     "data": {
      "text/plain": [
       "2.462931e-08"
      ]
     },
     "execution_count": 6,
     "metadata": {},
     "output_type": "execute_result"
    }
   ],
   "source": [
    "A = np.array([[17, 1, -1, 2, -2, 3, -3, 4],\n",
    "[2, -16, -1, 3, -2, 1, 1, -4],\n",
    "[-1, 1, 15, 2, -1, 2, -1, 1],\n",
    "[2, 4, 1, -14, 1, 3, 4, -1],\n",
    "[1, 3, 1, -1, 13, 1, -2, 3],\n",
    "[-2, 1, 2, -1, 2, -12, -1, 1],\n",
    "[3, 4, -1, 1, 2, -2, 11, -3],\n",
    "              \n",
    "[2, 1, 1, 1, -1, 1, -2, -10]]).astype('float32')\n",
    "\n",
    "np.linalg.norm(A, ord=1)/abs(np.linalg.det(A))"
   ]
  },
  {
   "cell_type": "code",
   "execution_count": null,
   "metadata": {
    "collapsed": true
   },
   "outputs": [],
   "source": [
    "def CroutLU(A):\n",
    "    n = len(A)\n",
    "    \n",
    "    L = np.zeros((n, n))\n",
    "    U = np.eye(n)\n",
    "    P = np.eye(n)\n",
    "    \n",
    "    S = np.max(np.abs(A), axis=1)\n",
    "    \n",
    "    print(S)\n",
    "\n",
    "    for j in range(n):\n",
    "        for i in range(j, n):\n",
    "            s = 0\n",
    "            for p in range(j):\n",
    "                s += L[i][p] * U[p][j]\n",
    "            L[i][j] = A[i][j] - s\n",
    "        \n",
    "        maxind = -1\n",
    "        maxval = -1\n",
    "        \n",
    "        for i in range(j, n):\n",
    "            if abs(L[i][j] / S[i]) > maxval:\n",
    "                maxval = abs(L[i][j] / S[i])\n",
    "                maxind = i\n",
    "                \n",
    "        \n",
    "        if maxind != j:\n",
    "            for i in range(j + 1, n):\n",
    "                A[j][i], A[maxind][i] = A[maxind][i], A[j][i]\n",
    "\n",
    "            for i in range(j + 1):\n",
    "                L[j][i], L[maxind][i] = L[maxind][i], L[j][i]\n",
    "\n",
    "            S[maxind], S[j] = S[j], S[maxind]\n",
    "    \n",
    "            print(j, maxind)\n",
    "\n",
    "            P[[maxind, j]] = P[[j, maxind]]\n",
    "                \n",
    "\n",
    "        for i in range(j + 1, n):\n",
    "            s = 0\n",
    "            for p in range(j):\n",
    "                s += L[j][p] * U[p][i]\n",
    "            U[j][i] = (A[j][i] - s) / (L[j][j])\n",
    "            \n",
    "    return L, U, P"
   ]
  },
  {
   "cell_type": "code",
   "execution_count": null,
   "metadata": {
    "collapsed": false,
    "scrolled": true
   },
   "outputs": [],
   "source": [
    "L, U, P = CroutLU(A)"
   ]
  },
  {
   "cell_type": "code",
   "execution_count": null,
   "metadata": {
    "collapsed": false
   },
   "outputs": [],
   "source": [
    "np.dot(P, np.dot(L, U))"
   ]
  },
  {
   "cell_type": "code",
   "execution_count": null,
   "metadata": {
    "collapsed": true
   },
   "outputs": [],
   "source": [
    "def solve(L, U, P, b):\n",
    "    b = np.dot(P, b)\n",
    "    print(b)\n",
    "    n = len(b)\n",
    "    y = np.zeros(n)\n",
    "\n",
    "    # solve Ly = b\n",
    "    for i in range(n):\n",
    "        s = 0\n",
    "        for j in range(i):\n",
    "            s += L[i][j]*y[j]\n",
    "            \n",
    "        y[i] = (b[i] - s) / L[i][i]\n",
    "        \n",
    "    # solve Ux = y\n",
    "    x = np.zeros(n)\n",
    "    for i in range(n - 1, -1, -1):\n",
    "        s = 0\n",
    "        for j in range(i + 1, n):\n",
    "            s += U[i][j] * x[j]\n",
    "        \n",
    "        x[i] = y[i] - s\n",
    "        \n",
    "    return x"
   ]
  },
  {
   "cell_type": "code",
   "execution_count": null,
   "metadata": {
    "collapsed": true
   },
   "outputs": [],
   "source": [
    "b = [33, 30, -24, -30, 25, 22, -27, 18]"
   ]
  },
  {
   "cell_type": "code",
   "execution_count": null,
   "metadata": {
    "collapsed": false
   },
   "outputs": [],
   "source": [
    "x = solve(L, U, P, b)"
   ]
  },
  {
   "cell_type": "code",
   "execution_count": null,
   "metadata": {
    "collapsed": false
   },
   "outputs": [],
   "source": [
    "print(x)"
   ]
  }
 ],
 "metadata": {
  "kernelspec": {
   "display_name": "Python 3",
   "language": "python",
   "name": "python3"
  },
  "language_info": {
   "codemirror_mode": {
    "name": "ipython",
    "version": 3
   },
   "file_extension": ".py",
   "mimetype": "text/x-python",
   "name": "python",
   "nbconvert_exporter": "python",
   "pygments_lexer": "ipython3",
   "version": "3.6.0"
  }
 },
 "nbformat": 4,
 "nbformat_minor": 2
}
