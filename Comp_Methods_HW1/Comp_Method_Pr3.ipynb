{
 "cells": [
  {
   "cell_type": "markdown",
   "metadata": {
    "collapsed": false
   },
   "source": [
    "# Problem 3: Iterative Solution of Ax=b, using SOR"
   ]
  },
  {
   "cell_type": "code",
   "execution_count": 1,
   "metadata": {
    "collapsed": true
   },
   "outputs": [],
   "source": [
    "import numpy as np\n",
    "import matplotlib.pyplot as plt"
   ]
  },
  {
   "cell_type": "markdown",
   "metadata": {},
   "source": [
    "## Inputs"
   ]
  },
  {
   "cell_type": "code",
   "execution_count": 2,
   "metadata": {
    "collapsed": true
   },
   "outputs": [],
   "source": [
    "A=np.array([[-4, 1, 0, 0, 0, 0, 0, 0, 0, 0],\n",
    "[1, -4, 1, 0, 0, 0, 0, 0, 0, 0],\n",
    "[0, 1, -4, 1, 0, 0, 0, 0, 0, 0],\n",
    "[0, 0, 1, -4, 1, 0, 0, 0, 0, 0],\n",
    "[0, 0, 0, 1, -4, 1, 0, 0, 0, 0],\n",
    "[0, 0, 0, 0, 1, -4, 1, 0, 0, 0],\n",
    "[0, 0, 0, 0, 0, 1, -4, 1, 0, 0],\n",
    "[0, 0, 0, 0, 0, 0, 1, -4, 1, 0],\n",
    "[0, 0, 0, 0, 0, 0, 0, 1, -4, 1],\n",
    "[0, 0, 0, 0, 0, 0, 0, 0, 1, -4]])\n",
    "\n",
    "b=np.array([-27,-15,-15,-15,-15,-15,-15,-15,-15,-15])\n",
    "\n",
    "omega=np.array([0.8, 1.0, 1.1, 1.2, 1.5])\n",
    "\n",
    "eps=1e-4"
   ]
  },
  {
   "cell_type": "markdown",
   "metadata": {},
   "source": [
    "## A function that solves Ax=b iteratively, using SOR and returning the iteration number for each given $\\omega$"
   ]
  },
  {
   "cell_type": "code",
   "execution_count": 3,
   "metadata": {
    "collapsed": false
   },
   "outputs": [],
   "source": [
    "def solveSOR(A, b, omega, eps):\n",
    "    n = len(A)\n",
    "    it_num = np.zeros(omega.shape[0])\n",
    "    for k in range(omega.shape[0]):\n",
    "        x = np.zeros(A.shape[0])\n",
    "        norm = 1e10\n",
    "        while norm > eps:\n",
    "            it_num[k] = it_num[k] + 1\n",
    "            x_prev = x.copy()\n",
    "            for i in range(n):\n",
    "                sum1 = 0\n",
    "                sum2 = 0\n",
    "                for j in range(i):\n",
    "                    sum1 = sum1 + A[i,j] * x[j]\n",
    "                for j in range(i + 1, n):\n",
    "                    sum2 = sum2 + A[i,j] * x_prev[j]\n",
    "                x[i]= (1 - omega[k]) * x_prev[i] + omega[k] * (b[i] - sum1 - sum2) / A[i,i]\n",
    "            norm = max(abs(x - x_prev))\n",
    "    return x, it_num"
   ]
  },
  {
   "cell_type": "markdown",
   "metadata": {},
   "source": [
    "## Result"
   ]
  },
  {
   "cell_type": "code",
   "execution_count": 4,
   "metadata": {
    "collapsed": false
   },
   "outputs": [
    {
     "name": "stdout",
     "output_type": "stream",
     "text": [
      "[ 8.70576935  7.8230216   7.58635328  7.52244041  7.50343219  7.49130032\n",
      "  7.46178059  7.35583193  6.96155436  5.49038737]\n"
     ]
    }
   ],
   "source": [
    "sol, steps = solveSOR(A, b, omega, eps)\n",
    "print(sol)"
   ]
  },
  {
   "cell_type": "markdown",
   "metadata": {},
   "source": [
    "### Plot of results for each $\\omega$"
   ]
  },
  {
   "cell_type": "code",
   "execution_count": 5,
   "metadata": {
    "collapsed": false
   },
   "outputs": [
    {
     "data": {
      "image/png": "[encoded data removed]",
      "text/plain": [
       "<matplotlib.figure.Figure at 0x1a4c0391748>"
      ]
     },
     "metadata": {},
     "output_type": "display_data"
    }
   ],
   "source": [
    "plt.plot(omega, steps)\n",
    "plt.xlabel('Omega')\n",
    "plt.ylabel('# of Steps')\n",
    "plt.show()"
   ]
  }
 ],
 "metadata": {
  "kernelspec": {
   "display_name": "Python 3",
   "language": "python",
   "name": "python3"
  },
  "language_info": {
   "codemirror_mode": {
    "name": "ipython",
    "version": 3
   },
   "file_extension": ".py",
   "mimetype": "text/x-python",
   "name": "python",
   "nbconvert_exporter": "python",
   "pygments_lexer": "ipython3",
   "version": "3.6.0"
  }
 },
 "nbformat": 4,
 "nbformat_minor": 2
}
