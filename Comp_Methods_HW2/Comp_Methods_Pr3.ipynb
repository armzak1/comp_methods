{
 "cells": [
  {
   "cell_type": "code",
   "execution_count": 21,
   "metadata": {
    "collapsed": true
   },
   "outputs": [],
   "source": [
    "import numpy as np\n",
    "import matplotlib.pyplot as plt"
   ]
  },
  {
   "cell_type": "code",
   "execution_count": 22,
   "metadata": {
    "collapsed": true
   },
   "outputs": [],
   "source": [
    "x=np.array([0.0,1.0,1.3,2.5,3.0,3.3,4.5,5.6,6.0,7.3,7.8,8.1,8.9,10.0,11.0,\n",
    "            12.1,12.9,13.5,14.2,15.0,15.8,16.5,17.1,18.0,19.5,20.0])\n",
    "f=np.array([0.1,1.2,1.5,3.8,3.7,4.5,4.7,5.2,4.5,4.3,2.8,3.1,1.5,0.8,-2.1,\n",
    "            -2.1,-3.5,-4.5,-4.5,-5.3,-4.1,-4.5,-3.1,-3.7,-1.5,-0.1])"
   ]
  },
  {
   "cell_type": "markdown",
   "metadata": {},
   "source": [
    "As initial guess, I'll take A (amplitude) to be the maximum value of f, as that's approximately how much the amplitude of my sinusoid should be.\n",
    "\n",
    "As for omega, we know that the period of sine is $2\\pi$, so the period for $sin(\\omega x) = \\frac{2\\pi}{\\omega}$. As we can roughly see from the data, our period is almost 20, so taking $\\omega = \\frac{\\pi}{10}$ will probably be a good choice."
   ]
  },
  {
   "cell_type": "code",
   "execution_count": 23,
   "metadata": {
    "collapsed": false
   },
   "outputs": [],
   "source": [
    "A_init = max(f)\n",
    "w_init = np.pi/10"
   ]
  },
  {
   "cell_type": "code",
   "execution_count": 24,
   "metadata": {
    "collapsed": true
   },
   "outputs": [],
   "source": [
    "def Aw_Norm(A,A_prev,w,w_prev):\n",
    "    norm = (abs(A-A_prev) + abs(w-w_prev))/2\n",
    "    return norm\n",
    "\n",
    "def S_A(A,w):\n",
    "    res = sum([np.sin(w*x[i])*(A*np.sin(w*x[i])-f[i]) for i in range(26)])\n",
    "    return res\n",
    "\n",
    "def S_w(A,w):\n",
    "    res = sum([A*x[i]*np.cos(w*x[i])*(A*np.sin(w*x[i])-f[i]) for i in range(26)])\n",
    "    return res\n",
    "\n",
    "def S_A_A(A,w):\n",
    "    res = sum([np.sin(w*x[i])**2 for i in range(26)])\n",
    "    return res\n",
    "    \n",
    "def S_A_w(A,w):\n",
    "    res=sum([A*x[i]*np.sin(2*w*x[i])-f[i]*x[i]*np.cos(w*x[i]) for i in range(26)])\n",
    "    return res\n",
    "\n",
    "def S_w_w(A,w):\n",
    "    res=sum([((A*x[i])**2)*np.cos(2*w*x[i])+A*f[i]*(x[i]**2)*np.sin(w*x[i]) for i in range(26)])\n",
    "    return res\n",
    "\n",
    "def S_Hessian_Det(A,w):\n",
    "    res=S_A_A(A,w)*S_w_w(A,w)-S_A_w(A,w)**2\n",
    "    return res\n",
    "\n",
    "def find_deltas(A,w):\n",
    "    delta1=(S_A_w(A,w)*S_w(A,w)-S_A(A,w)*S_w_w(A,w))/S_Hessian_Det(A,w)\n",
    "    delta2=(S_A_w(A,w)*S_A(A,w)-S_w(A,w)*S_A_A(A,w))/S_Hessian_Det(A,w)\n",
    "    return delta1, delta2\n",
    "\n",
    "def solve(A,w):\n",
    "    A_prev=A\n",
    "    w_prev=w\n",
    "    norm=1e10\n",
    "    eps=1e-5\n",
    "    while (norm>eps):\n",
    "        deltaA, deltaw = find_deltas(A_prev,w_prev)\n",
    "        A_curr, w_curr = A_prev + deltaA, w_prev + deltaw\n",
    "        norm = Aw_Norm(A_curr, A_prev, w_curr, w_prev)\n",
    "        A_prev, w_prev = A_curr, w_curr\n",
    "    return A_prev, w_prev\n"
   ]
  },
  {
   "cell_type": "code",
   "execution_count": 25,
   "metadata": {
    "collapsed": false
   },
   "outputs": [
    {
     "name": "stdout",
     "output_type": "stream",
     "text": [
      "4.84553706683 0.309929463021\n"
     ]
    }
   ],
   "source": [
    "A_res, w_res = solve(A_init,w_init)\n",
    "print(A_res, w_res)"
   ]
  },
  {
   "cell_type": "code",
   "execution_count": 26,
   "metadata": {
    "collapsed": false
   },
   "outputs": [
    {
     "data": {
      "image/png": "[encoded data removed]",
      "text/plain": [
       "<matplotlib.figure.Figure at 0x24fb0e21fd0>"
      ]
     },
     "metadata": {},
     "output_type": "display_data"
    }
   ],
   "source": [
    "plt.plot(x,f)\n",
    "plt.plot(x, A_res*np.sin(w_res*x))\n",
    "plt.show()"
   ]
  }
 ],
 "metadata": {
  "kernelspec": {
   "display_name": "Python 3",
   "language": "python",
   "name": "python3"
  },
  "language_info": {
   "codemirror_mode": {
    "name": "ipython",
    "version": 3
   },
   "file_extension": ".py",
   "mimetype": "text/x-python",
   "name": "python",
   "nbconvert_exporter": "python",
   "pygments_lexer": "ipython3",
   "version": "3.6.0"
  }
 },
 "nbformat": 4,
 "nbformat_minor": 2
}
